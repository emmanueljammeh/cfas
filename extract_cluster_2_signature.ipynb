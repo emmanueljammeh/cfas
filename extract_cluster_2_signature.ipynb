{
 "cells": [
  {
   "cell_type": "code",
   "execution_count": 1,
   "metadata": {
    "id": "c-do_VgriENx",
    "outputId": "84fe8fc2-d315-4d24-aee4-a75e6e8922f8"
   },
   "outputs": [
    {
     "name": "stdout",
     "output_type": "stream",
     "text": [
      "done\n"
     ]
    }
   ],
   "source": [
    "# clear all variables\n",
    "for i in list(globals().keys()):\n",
    "    if(i[0] != '_'):\n",
    "        exec('del {}'.format(i))\n",
    "\n",
    "#suppress future warnings -- not really a good idea \n",
    "from warnings import simplefilter\n",
    "from imblearn.over_sampling import RandomOverSampler\n",
    "from sklearn.preprocessing import MinMaxScaler\n",
    "\n",
    "# ignore all future warnings\n",
    "simplefilter(action='ignore', category=FutureWarning)\n",
    "from sklearn.metrics import f1_score\n",
    "import os\n",
    "import pandas as pd\n",
    "import numpy as np \n",
    "import matplotlib.pyplot as plt\n",
    "import seaborn as sns\n",
    "from numpy.random import seed\n",
    "%matplotlib inline\n",
    "\n",
    "from pandas import DataFrame, Series\n",
    "from sklearn.linear_model import LogisticRegression\n",
    "from sklearn.model_selection import train_test_split, cross_val_score\n",
    "from sklearn.metrics import confusion_matrix\n",
    "from sklearn.metrics import classification_report\n",
    "from sklearn import metrics\n",
    "\n",
    "import statsmodels as sm\n",
    "from statsmodels.stats.outliers_influence import variance_inflation_factor\n",
    "from statsmodels.tools.tools import add_constant\n",
    "from sklearn.metrics import classification_report\n",
    "\n",
    "from sklearn.preprocessing import LabelEncoder\n",
    "from sklearn.preprocessing import minmax_scale\n",
    "from sklearn.model_selection import train_test_split\n",
    "from sklearn.preprocessing import MinMaxScaler\n",
    "from sklearn.metrics import mean_squared_error, silhouette_score\n",
    "import csv\n",
    "import xlrd\n",
    "import math\n",
    "from IPython.display import set_matplotlib_formats\n",
    "from matplotlib import figure\n",
    "from IPython.display import FileLink, FileLinks\n",
    "from sklearn.preprocessing import StandardScaler, LabelEncoder\n",
    "from sklearn.model_selection import train_test_split\n",
    "from sklearn.neighbors import KNeighborsClassifier\n",
    "from sklearn.svm import SVC\n",
    "from sklearn.tree import DecisionTreeClassifier\n",
    "from sklearn.ensemble import RandomForestClassifier, AdaBoostClassifier, GradientBoostingClassifier\n",
    "from sklearn.naive_bayes import GaussianNB\n",
    "from sklearn.discriminant_analysis import LinearDiscriminantAnalysis, QuadraticDiscriminantAnalysis\n",
    "from sklearn.linear_model import LogisticRegression\n",
    "from sklearn.ensemble import ExtraTreesClassifier\n",
    "from sklearn.metrics import precision_score, recall_score, f1_score, roc_auc_score\n",
    "from sklearn.model_selection import RandomizedSearchCV\n",
    "from collections import Counter\n",
    "\n",
    "from imblearn.over_sampling import SMOTE\n",
    "\n",
    "# from my own utilities\n",
    "from tools.eajamm_utils import load_dataset\n",
    "\n",
    "#### Create folders\n",
    "def mkdir(dirName):\n",
    "    \n",
    "    if not os.path.exists(dirName):\n",
    "        os.mkdir(dirName)\n",
    "        print(\"Directory \" , dirName ,  \" Created \")\n",
    "    else:    \n",
    "        print(\"Directory \" , dirName ,  \" already exists\")\n",
    "        \n",
    "print('done')     \n"
   ]
  },
  {
   "cell_type": "markdown",
   "metadata": {
    "id": "10FQb_WYiEN1"
   },
   "source": [
    "# Data pre-processing"
   ]
  },
  {
   "cell_type": "code",
   "execution_count": 2,
   "metadata": {
    "id": "zULIfDWMiEN3",
    "outputId": "7ddf9970-98f0-4cae-837c-6fcef7cce1bf"
   },
   "outputs": [
    {
     "name": "stdout",
     "output_type": "stream",
     "text": [
      "Directory  WorkingAnalysis  already exists\n",
      "Directory  WorkingAnalysis/cluster2  already exists\n",
      "Directory  WorkingAnalysis/cluster2/data  already exists\n",
      "Directory  WorkingAnalysis/cluster2/ranking  already exists\n",
      "Directory  WorkingAnalysis/cluster2/signatures  already exists\n",
      "Directory  WorkingAnalysis/cluster2/coefficients  already exists\n"
     ]
    },
    {
     "data": {
      "text/plain": [
       "(126, 31)"
      ]
     },
     "execution_count": 2,
     "metadata": {},
     "output_type": "execute_result"
    }
   ],
   "source": [
    "\n",
    "mkdir('WorkingAnalysis')\n",
    "mkdir('WorkingAnalysis/cluster2')\n",
    "mkdir('WorkingAnalysis/cluster2/data')\n",
    "mkdir('WorkingAnalysis/cluster2/ranking')\n",
    "mkdir('WorkingAnalysis/cluster2/signatures')\n",
    "mkdir('WorkingAnalysis/cluster2/coefficients')\n",
    "\n",
    "# Load and pre-process dataset\n",
    "df=load_dataset('../data/selected_clinical_original_use.csv').dropna() \\\n",
    "                        .drop(columns=['lastint']) \\\n",
    "                        .replace({'No': 0, 'Mild': 1, 'Mod':2, 'Sev':3}) \\\n",
    "                        .replace({'Yes': 1}) \\\n",
    "                        .replace({'Women':0, 'Men':1}) \\\n",
    "                        .replace({'FP':1, 'FN':0, 'TP&TN':0}) \\\n",
    "                        .drop(columns=['membership'])\n",
    "df['membership'] = df.pop('cluster').sample(frac=1.0)\n",
    "\n",
    "# save a copy of  the data\n",
    "df.to_csv('WorkingAnalysis/cluster2/data/cluster2_dset.csv',index=False)\n",
    "\n",
    "# MinMax scaling of the numeric features\n",
    "numeric_cols=['age', 'interval', 'gapd', 'gap', 'brain_wgt']                 # numeric features\n",
    "df[numeric_cols]=MinMaxScaler().fit_transform(df[numeric_cols])  # transform\n",
    "\n",
    "# save a copy of  the data with numeric features scaled\n",
    "df.to_csv('WorkingAnalysis/cluster2/data/cluster2_dset_scaled.csv',index=False)\n",
    "\n",
    "'''get cluster 2 dataset'''\n",
    "\n",
    "# Cluster 2 dataset (df0)\n",
    "df2=df\n",
    "\n",
    "# seperate into data and labels\n",
    "X_all=df2.drop(columns=['membership', 'Case'])\n",
    "y_all=df2.membership\n",
    "\n",
    "# Syntethic Minority Oversampling TEchnique (SMOTE)\n",
    "df2_data, df2_label = SMOTE().fit_resample(X_all, y_all)\n",
    "\n",
    "# Split the X_all and y_all\n",
    "X_all_train, X_all_test, y_all_train, y_all_test = train_test_split(df2_data, df2_label, \n",
    "                                                                    test_size = 0.30,\n",
    "                                                                    random_state = 220)\n",
    "# check how many samples and features remain\n",
    "X_all_train.shape\n"
   ]
  },
  {
   "cell_type": "markdown",
   "metadata": {
    "id": "GYxkmCLkiEN4"
   },
   "source": [
    "# Feature Selection: remove features with large fraction of constant values"
   ]
  },
  {
   "cell_type": "code",
   "execution_count": 3,
   "metadata": {
    "id": "W_-ltpraiEN5",
    "outputId": "67e326b2-616c-4668-a8c8-3a33d597fba4"
   },
   "outputs": [
    {
     "name": "stdout",
     "output_type": "stream",
     "text": [
      "Removing Constant Features\n",
      "['pickh', 'lewyh', 'spongh', 'lossf', 'losst', 'gliosf', 'gliost', 'superglf', 'superglt', 'pickf', 'pickt', 'balloonf', 'balloont', 'lewyf', 'lewyt', 'spongf', 'spongt']\n",
      "\n",
      "Done selecting features\n"
     ]
    },
    {
     "data": {
      "text/plain": [
       "(126, 14)"
      ]
     },
     "execution_count": 3,
     "metadata": {},
     "output_type": "execute_result"
    }
   ],
   "source": [
    "from tools.cfas_processing import FeatureSelector\n",
    "\n",
    "# Define steps\n",
    "step1 = {'Constant Features': {'frac_constant_values': 0.95}}\n",
    "\n",
    "# Place steps in a list in the order you want them execute it\n",
    "steps = [step1]\n",
    "\n",
    "# Initialize FeatureSelector()\n",
    "fs = FeatureSelector()\n",
    "\n",
    "# Apply feature selection methods in the order they appear in steps\n",
    "fs.fit(X_all_train, y_all_train, steps)\n",
    "\n",
    "# Get selected features\n",
    "X_selected = fs.transform(X_all_train)\n",
    "X_selected.shape\n",
    "\n",
    "# This stage is optional and has not been included \n"
   ]
  },
  {
   "cell_type": "markdown",
   "metadata": {
    "id": "dJGzmm62iEN5"
   },
   "source": [
    "# Feature Selection: Remove highly correlated features"
   ]
  },
  {
   "cell_type": "code",
   "execution_count": 4,
   "metadata": {
    "id": "cu2fowZOiEN6",
    "outputId": "412035e0-9a46-45d2-fdcf-579a349b1e04"
   },
   "outputs": [
    {
     "name": "stdout",
     "output_type": "stream",
     "text": [
      "Removing Correlated Features\n",
      "['gapd', 'gap']\n",
      "\n",
      "Done selecting features\n"
     ]
    }
   ],
   "source": [
    "# Define steps\n",
    "step1 = {'Correlated Features': {'correlation_threshold': 0.85}}\n",
    "\n",
    "# Place steps in a list in the order you want them execute it\n",
    "steps = [step1]\n",
    "\n",
    "# Initialize FeatureSelector()\n",
    "fs = FeatureSelector()\n",
    "\n",
    "# Apply feature selection methods in the order they appear in steps\n",
    "\n",
    "''' Commenting line to NOT INCLUDE removing of constant features '''\n",
    "#fs.fit(X_selected, y_all_train, steps)  \n",
    "\n",
    "''' Use ALL features without dropping features with highly constant data '''\n",
    "fs.fit(X_all_train, y_all_train, steps)\n",
    "\n",
    "# Get selected features\n",
    "X_selected = fs.transform(X_all_train)"
   ]
  },
  {
   "cell_type": "markdown",
   "metadata": {
    "id": "9oPzP-gyiEN6"
   },
   "source": [
    "# Feature ranking "
   ]
  },
  {
   "cell_type": "code",
   "execution_count": 5,
   "metadata": {
    "id": "Cwk1e2KjiEN7",
    "outputId": "b597b4fe-e90f-4400-a0da-8a344484b88a"
   },
   "outputs": [
    {
     "data": {
      "image/png": "[encoded data removed]",
      "text/plain": [
       "<Figure size 1584x576 with 1 Axes>"
      ]
     },
     "metadata": {
      "needs_background": "light"
     },
     "output_type": "display_data"
    }
   ],
   "source": [
    "# Define estimator\n",
    "estimator = RandomForestClassifier(n_estimators = 100, max_depth = 7, min_samples_leaf = 2, min_samples_split = 2, random_state=220)\n",
    "#estimator = RandomForestClassifier(random_state=220)\n",
    "\n",
    "''' Option 'X_selected' for dropping correlated and highly constant '''\n",
    "#estimator.fit(X_selected, y_all_train)\n",
    "estimator.fit(X_all_train, y_all_train)\n",
    "\n",
    "# create a dataFrame of feature importance\n",
    "#imp=pd.DataFrame({'feature':X_selected.columns,'importance':estimator.feature_importances_}).sort_values(by='importance',ascending=False)\n",
    "imp=pd.DataFrame({'feature':X_all_train.columns,'importance':estimator.feature_importances_}).sort_values(by='importance',ascending=False)\n",
    "\n",
    "# get significant features\n",
    "cluster_2_significant_features = imp[imp.importance > 0.0]\n",
    "\n",
    "imp.plot.bar(x='feature', y='importance', rot=0,figsize=(22,8), color='blue')\n",
    "plt.xticks(rotation='vertical',fontsize=18)\n",
    "plt.yticks(fontsize=18)\n",
    "plt.xlabel('')\n",
    "plt.ylabel('Normalised importance',fontsize=18)\n",
    "plt.legend(fontsize=18)\n",
    "plt.title('Cluster FP Feature Ranked by Normalised Importance',fontsize=16)\n",
    "plt.tight_layout()\n",
    "\n",
    "# save \n",
    "imp.to_csv('WorkingAnalysis/cluster2/ranking/cluster_2_feature_ranking.csv',index=False)\n",
    "plt.savefig('WorkingAnalysis/cluster2/ranking/cluster_2_feature_ranking.png')\n",
    "plt.savefig('WorkingAnalysis/cluster2/ranking/cluster_2_feature_ranking.pdf')\n"
   ]
  },
  {
   "cell_type": "markdown",
   "metadata": {
    "id": "JGXy9gsbiEN8"
   },
   "source": [
    "# Feature selection  -- based on Recursive Feature Elimination (RFE)"
   ]
  },
  {
   "cell_type": "code",
   "execution_count": 6,
   "metadata": {
    "id": "g87zbXxpiEN8"
   },
   "outputs": [
    {
     "name": "stdout",
     "output_type": "stream",
     "text": [
      "1 / 24\n",
      "2 / 24\n",
      "3 / 24\n",
      "4 / 24\n",
      "5 / 24\n",
      "6 / 24\n",
      "7 / 24\n",
      "8 / 24\n",
      "9 / 24\n",
      "10 / 24\n",
      "11 / 24\n",
      "12 / 24\n",
      "13 / 24\n",
      "14 / 24\n",
      "15 / 24\n",
      "16 / 24\n",
      "17 / 24\n",
      "18 / 24\n",
      "19 / 24\n",
      "20 / 24\n",
      "21 / 24\n",
      "22 / 24\n",
      "23 / 24\n",
      "24 / 24\n"
     ]
    },
    {
     "data": {
      "image/png": "[encoded data removed]",
      "text/plain": [
       "<Figure size 864x432 with 1 Axes>"
      ]
     },
     "metadata": {
      "needs_background": "light"
     },
     "output_type": "display_data"
    }
   ],
   "source": [
    "from sklearn.feature_selection import RFE\n",
    "from sklearn.metrics import roc_auc_score\n",
    "from sklearn.svm import SVR\n",
    "from sklearn import metrics\n",
    "\n",
    "accuracy_train=[]\n",
    "accuracy_test=[]\n",
    "f1_train=[]\n",
    "f1_test=[]\n",
    "\n",
    "roc_train=[]\n",
    "roc_test=[]\n",
    "\n",
    "num_repeat=50  # number of bootstrap samples\n",
    "max_size = cluster_2_significant_features.shape[0]\n",
    "\n",
    "# feature selection based on recursive feature elimination\n",
    "for size in range(1,max_size+1):\n",
    "    # get data\n",
    "    for i in range(1,num_repeat+1):\n",
    "\n",
    "        # get random 90% of samples\n",
    "        #data=pd.concat([X_selected[cluster_2_significant_features.feature], y_all_train], axis=1).sample(frac=0.9, replace=False)\n",
    "        data=pd.concat([X_all_train[cluster_2_significant_features.feature], y_all_train], axis=1).sample(frac=0.98, replace=False)\n",
    "    \n",
    "        X=data.drop(columns=['membership'])\n",
    "        y=data.membership\n",
    "        \n",
    "        # model\n",
    "        #estimator = SVR(kernel=\"linear\")\n",
    "        estimator = RandomForestClassifier(n_estimators = 100, max_depth = 7, min_samples_leaf = 2, min_samples_split = 2, random_state=220)\n",
    "\n",
    "        #RFE\n",
    "        selector = RFE(estimator, n_features_to_select=size, step=1)\n",
    "\n",
    "        # fit RFE\n",
    "        selector = selector.fit(X, y)\n",
    "        \n",
    "        # accumulate ranking\n",
    "        if(i==1):\n",
    "            exec(\"size_%d\"%size+\"_ranking = selector.ranking_\")\n",
    "        else:\n",
    "            exec(\"size_%d\"%size+\"_ranking = size_%d\"%size+\"_ranking + selector.ranking_\")\n",
    "    \n",
    "    # save signature\n",
    "    exec(\"size_%d\"%size+\"_signature=pd.DataFrame({'feature':X.columns, 'rank':size_%d\"%size+\"_ranking/(num_repeat)}).sort_values(by='rank')\")\n",
    "    \n",
    "    # save signatures\n",
    "    exec(\"signature_2_size_%d\"%size+\" = size_%d\"%size+\"_signature[:%d\"%size+\"]\")     \n",
    "    exec(\"signature_2_size_%d\"%size+\".to_csv('WorkingAnalysis/cluster2/signatures/signature_2_size_%d\"%size+\".csv',index=False)\")\n",
    "    \n",
    "    # create and fit model\n",
    "    model = RandomForestClassifier(n_estimators = 100, max_depth = 7, min_samples_leaf = 2, min_samples_split = 2, random_state=220)\n",
    "    exec(\"signature_2_size_%d\"%size+\" = size_%d\"%size+\"_signature[:%d\"%size+\"].feature\") \n",
    "    exec(\"model.fit(X_all_train[signature_2_size_%d\"%size+\"], y_all_train)\")\n",
    "    \n",
    "    # Make predictions\n",
    "    exec(\"y_pred_train = model.predict(X_all_train[signature_2_size_%d\"%size+\"])\") \n",
    "    exec(\"y_pred_test = model.predict(X_all_test[signature_2_size_%d\"%size+\"])\") \n",
    "    \n",
    "    # Measure performance\n",
    "    train_acc=( metrics.accuracy_score(y_all_train, y_pred_train))\n",
    "    test_acc=(metrics.accuracy_score(y_all_test, y_pred_test))\n",
    "\n",
    "    train_f1=(f1_score(y_all_train, y_pred_train, average='weighted'))\n",
    "    test_f1=(f1_score(y_all_test, y_pred_test, average='weighted'))\n",
    "\n",
    "    # save performances\n",
    "    accuracy_train.append(train_acc)\n",
    "    accuracy_test.append(test_acc)\n",
    "    \n",
    "    f1_train.append(train_f1)\n",
    "    f1_test.append(test_f1)\n",
    "    \n",
    "    exec(\"train_roc=roc_auc_score(y_all_train, model.predict_proba(X_all_train[signature_2_size_%d\"%size+\"])[:, 1])\") \n",
    "    exec(\"test_roc=roc_auc_score(y_all_test, model.predict_proba(X_all_test[signature_2_size_%d\"%size+\"])[:, 1])\") \n",
    "    \n",
    "    roc_train.append(train_roc)\n",
    "    roc_test.append(test_roc)\n",
    "    \n",
    "    # get coefficients\n",
    "    estimator = SVR(kernel=\"linear\")\n",
    "    exec(\"estimator.fit(X[signature_2_size_%d\"%size+\"],y)\")\n",
    "    exec(\"signature_2_size_%d\"%size+\"_coefficients=pd.DataFrame({'feature':signature_2_size_%d\"%size+\", 'coeff':np.ravel(estimator.coef_)})\")\n",
    "    exec(\"signature_2_size_%d\"%size+\"_coefficients\")\n",
    "    \n",
    "    # save\n",
    "    exec(\"signature_2_size_%d\"%size+\"_coefficients.to_csv('WorkingAnalysis/cluster2/coefficients/signature_2_size_%d\"%size+\"_coefficients.csv',index=False)\")\n",
    "    \n",
    "    # DEBUG: show progress\n",
    "    print(size,'/',max_size)\n",
    "\n",
    "# get candidate signatures performances\n",
    "signatures_2_performances = pd.DataFrame({'size':range(1,max_size+1), 'test_acc':accuracy_test, 'test_f1':f1_test, 'test_roc':roc_test})\n",
    "\n",
    "# plot performances\n",
    "plt.figure(figsize=(12,6))\n",
    "plt.plot(signatures_2_performances['size'], signatures_2_performances.test_roc,'o-')\n",
    "plt.xlim(0,max_size)\n",
    "plt.ylim(0.2,1.)\n",
    "plt.xlabel('Size',fontsize=18)\n",
    "plt.ylabel('AuC',fontsize=18)\n",
    "plt.xticks(fontsize=18)\n",
    "plt.yticks(fontsize=18)\n",
    "plt.title('Cluster FP candidate signatures classification performance',fontsize=16)\n",
    "plt.tight_layout()\n",
    "\n",
    "# save figure\n",
    "plt.savefig('WorkingAnalysis/cluster2/signatures/signatures_2_performances.png')\n",
    "plt.savefig('WorkingAnalysis/cluster2/signatures/signatures_2_performances.pdf')\n",
    "#signatures_2_performances   \n"
   ]
  },
  {
   "cell_type": "markdown",
   "metadata": {
    "id": "0wGEQeT_iEN9"
   },
   "source": [
    "# Regression plot"
   ]
  },
  {
   "cell_type": "code",
   "execution_count": 7,
   "metadata": {
    "id": "OiTRh4wfiEN9"
   },
   "outputs": [
    {
     "data": {
      "image/png": "[encoded data removed]",
      "text/plain": [
       "<Figure size 864x360 with 1 Axes>"
      ]
     },
     "metadata": {
      "needs_background": "light"
     },
     "output_type": "display_data"
    }
   ],
   "source": [
    "\n",
    "plt.figure(figsize=(12,5))\n",
    "sns.regplot(x=signatures_2_performances['size'], y=signatures_2_performances.test_roc, order=3, scatter_kws={\"s\": 80},  ci=None)\n",
    "plt.xlim(0,max_size)\n",
    "plt.ylim(0.4,1.)\n",
    "plt.xlabel('Size',fontsize=18)\n",
    "plt.ylabel('AuC',fontsize=18)\n",
    "plt.xticks(fontsize=18)\n",
    "plt.yticks(fontsize=18)\n",
    "plt.title('Cluster 2 signatures classification performance',fontsize=16)\n",
    "#plt.tight_layout()\n",
    "plt.grid()\n",
    "\n",
    "# save figure\n",
    "plt.savefig('WorkingAnalysis/cluster2/signatures/signatures_2_performances_regplot.png')\n",
    "plt.savefig('WorkingAnalysis/cluster2/signatures/signatures_2_performances_regplot.pdf')\n",
    "#signatures_0_performances   \n"
   ]
  },
  {
   "cell_type": "markdown",
   "metadata": {
    "id": "01lmHooKiEN9"
   },
   "source": [
    "# Plot coefficient for Cluster 0 -- 'True Positives & True Negatives'\n",
    "\n",
    "maybe best is 7\n",
    "signature_0_size_7"
   ]
  },
  {
   "cell_type": "code",
   "execution_count": 8,
   "metadata": {
    "id": "CrleilZPiEN9"
   },
   "outputs": [
    {
     "data": {
      "text/html": [
       "<div>\n",
       "<style scoped>\n",
       "    .dataframe tbody tr th:only-of-type {\n",
       "        vertical-align: middle;\n",
       "    }\n",
       "\n",
       "    .dataframe tbody tr th {\n",
       "        vertical-align: top;\n",
       "    }\n",
       "\n",
       "    .dataframe thead th {\n",
       "        text-align: right;\n",
       "    }\n",
       "</style>\n",
       "<table border=\"1\" class=\"dataframe\">\n",
       "  <thead>\n",
       "    <tr style=\"text-align: right;\">\n",
       "      <th></th>\n",
       "      <th>feature</th>\n",
       "      <th>coeff</th>\n",
       "    </tr>\n",
       "  </thead>\n",
       "  <tbody>\n",
       "    <tr>\n",
       "      <th>0</th>\n",
       "      <td>brain_wgt</td>\n",
       "      <td>0.911529</td>\n",
       "    </tr>\n",
       "    <tr>\n",
       "      <th>1</th>\n",
       "      <td>age</td>\n",
       "      <td>0.776751</td>\n",
       "    </tr>\n",
       "    <tr>\n",
       "      <th>2</th>\n",
       "      <td>gap</td>\n",
       "      <td>-0.037863</td>\n",
       "    </tr>\n",
       "    <tr>\n",
       "      <th>3</th>\n",
       "      <td>gapd</td>\n",
       "      <td>-0.037863</td>\n",
       "    </tr>\n",
       "    <tr>\n",
       "      <th>4</th>\n",
       "      <td>interval</td>\n",
       "      <td>-0.037863</td>\n",
       "    </tr>\n",
       "    <tr>\n",
       "      <th>5</th>\n",
       "      <td>tanglest</td>\n",
       "      <td>0.039487</td>\n",
       "    </tr>\n",
       "    <tr>\n",
       "      <th>6</th>\n",
       "      <td>losss</td>\n",
       "      <td>-0.092058</td>\n",
       "    </tr>\n",
       "    <tr>\n",
       "      <th>7</th>\n",
       "      <td>lewys</td>\n",
       "      <td>-0.183154</td>\n",
       "    </tr>\n",
       "    <tr>\n",
       "      <th>8</th>\n",
       "      <td>lossh</td>\n",
       "      <td>-0.217671</td>\n",
       "    </tr>\n",
       "    <tr>\n",
       "      <th>10</th>\n",
       "      <td>amyparf</td>\n",
       "      <td>-0.184823</td>\n",
       "    </tr>\n",
       "  </tbody>\n",
       "</table>\n",
       "</div>"
      ],
      "text/plain": [
       "      feature     coeff\n",
       "0   brain_wgt  0.911529\n",
       "1         age  0.776751\n",
       "2         gap -0.037863\n",
       "3        gapd -0.037863\n",
       "4    interval -0.037863\n",
       "5    tanglest  0.039487\n",
       "6       losss -0.092058\n",
       "7       lewys -0.183154\n",
       "8       lossh -0.217671\n",
       "10    amyparf -0.184823"
      ]
     },
     "execution_count": 8,
     "metadata": {},
     "output_type": "execute_result"
    }
   ],
   "source": [
    "signature_2_size_10_coefficients"
   ]
  }
 ],
 "metadata": {
  "colab": {
   "collapsed_sections": [],
   "name": "eajamm_2_fs_noEncoding.ipynb",
   "provenance": []
  },
  "kernelspec": {
   "display_name": "Python 3",
   "language": "python",
   "name": "python3"
  },
  "language_info": {
   "codemirror_mode": {
    "name": "ipython",
    "version": 3
   },
   "file_extension": ".py",
   "mimetype": "text/x-python",
   "name": "python",
   "nbconvert_exporter": "python",
   "pygments_lexer": "ipython3",
   "version": "3.8.5"
  }
 },
 "nbformat": 4,
 "nbformat_minor": 4
}
